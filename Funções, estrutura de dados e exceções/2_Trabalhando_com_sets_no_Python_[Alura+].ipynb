{
  "cells": [
    {
      "cell_type": "markdown",
      "metadata": {
        "colab_type": "text",
        "id": "view-in-github"
      },
      "source": [
        "<a href=\"https://colab.research.google.com/github/isaacdavii/CursoAlura_Python-p-Data-Science/blob/main/2_Trabalhando_com_sets_no_Python_%5BAlura%2B%5D.ipynb\" target=\"_parent\"><img src=\"https://colab.research.google.com/assets/colab-badge.svg\" alt=\"Open In Colab\"/></a>"
      ]
    },
    {
      "cell_type": "markdown",
      "metadata": {
        "id": "a_0iJT3mqcck"
      },
      "source": [
        "# **Trabalhando com Sets no Python**"
      ]
    },
    {
      "cell_type": "markdown",
      "metadata": {
        "id": "hwdXSll0wgSW"
      },
      "source": [
        "## **Criação dos sets**"
      ]
    },
    {
      "cell_type": "markdown",
      "metadata": {
        "id": "FIZXptElx8yh"
      },
      "source": [
        "### Set >\n",
        " - Coleção de dados **não-ordenada**\n",
        " - Não permite **duplicatas**\n",
        " - Estrutura de dados **built-in** do Python"
      ]
    },
    {
      "cell_type": "markdown",
      "metadata": {
        "id": "yfaf8Gn6jALR"
      },
      "source": [
        "### **Utilizando as chaves `{ }`:**\n",
        "\n",
        "\n"
      ]
    },
    {
      "cell_type": "code",
      "execution_count": 1,
      "metadata": {
        "colab": {
          "base_uri": "https://localhost:8080/"
        },
        "id": "FK3qZ08ckgXK",
        "outputId": "e9cae6fe-cdf0-4ebb-af50-84723e1f3ba7"
      },
      "outputs": [
        {
          "name": "stdout",
          "output_type": "stream",
          "text": [
            "{'Jetta Variant', 'Dodge Jorney', 'Passat', 'Crossfox'}\n"
          ]
        }
      ],
      "source": [
        "carros = {'Jetta Variant', 'Passat', 'Crossfox', 'Dodge Jorney'}\n",
        "\n",
        "print(carros)"
      ]
    },
    {
      "cell_type": "code",
      "execution_count": 9,
      "metadata": {
        "colab": {
          "base_uri": "https://localhost:8080/"
        },
        "id": "6A1qeFDQEKuM",
        "outputId": "b48597c1-93b3-4b22-b665-64641be4e5c9"
      },
      "outputs": [
        {
          "name": "stdout",
          "output_type": "stream",
          "text": [
            "{2017, 37123.04, 'Onix', True}\n"
          ]
        }
      ],
      "source": [
        "# Sets com elementos diferentes\n",
        "\n",
        "elementos_diferentes = {2017, \"Onix\", 37123.04, True} #int, str, float, bool\n",
        "print(elementos_diferentes)"
      ]
    },
    {
      "cell_type": "code",
      "execution_count": null,
      "metadata": {
        "colab": {
          "base_uri": "https://localhost:8080/",
          "height": 141
        },
        "id": "LSffwZiinhIP",
        "outputId": "8937d231-a150-4646-bf77-b85ec68acc49"
      },
      "outputs": [],
      "source": [
        "carros[0] # como não são ordenados, eles não podem ser facilmente vizualiados \n",
        "# executar a célular não funciona"
      ]
    },
    {
      "cell_type": "code",
      "execution_count": 10,
      "metadata": {
        "colab": {
          "base_uri": "https://localhost:8080/"
        },
        "id": "dcccTfDPa_bH",
        "outputId": "8239f624-539a-417e-978b-e2cee0cd24e9"
      },
      "outputs": [
        {
          "name": "stdout",
          "output_type": "stream",
          "text": [
            "Os carros são: Jetta Variant | Dodge Jorney | Passat | Crossfox | "
          ]
        }
      ],
      "source": [
        "print('Os carros são: ', end ='')\n",
        "for i in carros:\n",
        "  print(i, end =' | ')"
      ]
    },
    {
      "cell_type": "markdown",
      "metadata": {
        "id": "A7YsVhE6jHxL"
      },
      "source": [
        "### **Utilizando listas e a função `set()`**"
      ]
    },
    {
      "cell_type": "code",
      "execution_count": 12,
      "metadata": {
        "id": "SPF6Lemvr155"
      },
      "outputs": [],
      "source": [
        "lista_escolas = ['Data Science', 'Programação', 'Front-end',\n",
        "                 'Mobile', 'DevOps', 'UX & Design', 'Inovação e Gestão']"
      ]
    },
    {
      "cell_type": "code",
      "execution_count": 32,
      "metadata": {
        "colab": {
          "base_uri": "https://localhost:8080/"
        },
        "id": "z4XSX7EUQZTk",
        "outputId": "773b837c-e041-4a8e-cf1d-0a847a7b80ce"
      },
      "outputs": [
        {
          "name": "stdout",
          "output_type": "stream",
          "text": [
            "{'Mobile', 'DevOps', 'Front-end', 'UX & Design', 'Inovação e Gestão', 'Programação', 'Data Science'}\n"
          ]
        }
      ],
      "source": [
        "escolas_set = set(lista_escolas) # set() é uma coleção de elementos únicos e não ordenados \n",
        "print(escolas_set)"
      ]
    },
    {
      "cell_type": "markdown",
      "metadata": {
        "id": "L65NhBb1jawr"
      },
      "source": [
        "### **Trabalhando com elementos repetidos:**"
      ]
    },
    {
      "cell_type": "code",
      "execution_count": 35,
      "metadata": {
        "id": "VzHw4PPKr1-O"
      },
      "outputs": [
        {
          "name": "stdout",
          "output_type": "stream",
          "text": [
            "7 4\n"
          ]
        }
      ],
      "source": [
        "lista_carros = ['Jetta Variant', 'Passat', 'Crossfox', 'Passat', 'Crossfox',\n",
        "                'Jetta Variant', 'Dodge Journey']\n",
        "nova_lista = set(lista_carros) # Ao usar o set() eu acabo eliminando as duplicatas. Observar célula 13 e 14\n",
        "print(len(lista_carros), len(nova_lista))"
      ]
    },
    {
      "cell_type": "code",
      "execution_count": 36,
      "metadata": {
        "colab": {
          "base_uri": "https://localhost:8080/"
        },
        "id": "LZAOxogMd8qW",
        "outputId": "5b18824a-9b1e-466e-e0d2-375b83e423cb"
      },
      "outputs": [
        {
          "name": "stdout",
          "output_type": "stream",
          "text": [
            "7\n"
          ]
        }
      ],
      "source": [
        "# Utilizando a função len() para verificar a quantidade de elementos\n",
        "print(len(lista_carros)) # Eu acabo contando todos os elementos, mesmo os repetidos"
      ]
    },
    {
      "cell_type": "code",
      "execution_count": 16,
      "metadata": {
        "colab": {
          "base_uri": "https://localhost:8080/"
        },
        "id": "rGMVqeWhd9YO",
        "outputId": "a3412f24-2a6a-4aa2-ba74-4de894766702"
      },
      "outputs": [
        {
          "name": "stdout",
          "output_type": "stream",
          "text": [
            "{'Jetta Variant', 'Passat', 'Dodge Journey', 'Crossfox'}\n"
          ]
        }
      ],
      "source": [
        "print(nova_lista)"
      ]
    },
    {
      "cell_type": "code",
      "execution_count": 17,
      "metadata": {
        "colab": {
          "base_uri": "https://localhost:8080/"
        },
        "id": "rXUxHPawWq8x",
        "outputId": "83d7c0e2-8b43-4c25-b5d7-d83a64db26d7"
      },
      "outputs": [
        {
          "data": {
            "text/plain": [
              "4"
            ]
          },
          "execution_count": 17,
          "metadata": {},
          "output_type": "execute_result"
        }
      ],
      "source": [
        "len(nova_lista)"
      ]
    },
    {
      "cell_type": "markdown",
      "metadata": {
        "id": "U8Ur2s1KQlgv"
      },
      "source": [
        "## **Operações com Sets**\n"
      ]
    },
    {
      "cell_type": "markdown",
      "metadata": {
        "id": "E-5ZS2xt0KTe"
      },
      "source": [
        "- Conjuntos (matemática)\n",
        "- Operações (disjunção, união, interseção)"
      ]
    },
    {
      "cell_type": "markdown",
      "metadata": {
        "id": "Jcko59YgXiT4"
      },
      "source": [
        "Para esse exercício, vamos precisar criar conjuntos com os **acessórios** de alguns modelos de carros, são eles: **Passat**, **Crossfox** e **Jetta Variant**."
      ]
    },
    {
      "cell_type": "code",
      "execution_count": 18,
      "metadata": {
        "colab": {
          "base_uri": "https://localhost:8080/"
        },
        "id": "zA95t7-YXoE4",
        "outputId": "7d519e8c-1e31-488b-f09d-91680d26e842"
      },
      "outputs": [
        {
          "name": "stdout",
          "output_type": "stream",
          "text": [
            "{'Travas Elétricas', 'Rodas de Liga', 'Central Multimídia', 'Piloto Automático'}\n"
          ]
        }
      ],
      "source": [
        "acessorios_passat = {'Rodas de Liga', 'Travas Elétricas', 'Piloto Automático',\n",
        "                     'Central Multimídia'}\n",
        "print(acessorios_passat)"
      ]
    },
    {
      "cell_type": "code",
      "execution_count": 19,
      "metadata": {
        "colab": {
          "base_uri": "https://localhost:8080/"
        },
        "id": "lfgMiNEyXoE5",
        "outputId": "8f2a10cc-ff84-4f82-ef5d-c887484cc943"
      },
      "outputs": [
        {
          "name": "stdout",
          "output_type": "stream",
          "text": [
            "{'Teto Panorâmico', 'Piloto Automático', 'Central Multimídia', '4 X 4'}\n"
          ]
        }
      ],
      "source": [
        "acessorios_crossfox = {'Piloto Automático', 'Teto Panorâmico', '4 X 4',\n",
        "                       'Central Multimídia'}\n",
        "print(acessorios_crossfox)"
      ]
    },
    {
      "cell_type": "code",
      "execution_count": 20,
      "metadata": {
        "colab": {
          "base_uri": "https://localhost:8080/"
        },
        "id": "2dsJa9sAXoE5",
        "outputId": "e7ddb09a-f7d9-4da6-eb16-a5728daa1b31"
      },
      "outputs": [
        {
          "name": "stdout",
          "output_type": "stream",
          "text": [
            "{'Travas Elétricas', 'Câmbio Automático', 'Controle de Estabilidade', 'Rodas de Liga'}\n"
          ]
        }
      ],
      "source": [
        "acessorios_jetta = {'Controle de Estabilidade', 'Câmbio Automático', 'Travas Elétricas',\n",
        "                    'Rodas de Liga'}\n",
        "print(acessorios_jetta)"
      ]
    },
    {
      "cell_type": "markdown",
      "metadata": {
        "id": "Pp7URtpTQnXn"
      },
      "source": [
        "### **Disjunção**"
      ]
    },
    {
      "cell_type": "markdown",
      "metadata": {
        "id": "IRmgINkLWsjs"
      },
      "source": [
        "<img src='https://i.imgur.com/o2wsgPo.png' width = 50%>"
      ]
    },
    {
      "cell_type": "code",
      "execution_count": 21,
      "metadata": {
        "colab": {
          "base_uri": "https://localhost:8080/"
        },
        "id": "n3GfcrMHW4nu",
        "outputId": "503b4dcc-c18e-4983-9619-7a391f8a7294"
      },
      "outputs": [
        {
          "data": {
            "text/plain": [
              "False"
            ]
          },
          "execution_count": 21,
          "metadata": {},
          "output_type": "execute_result"
        }
      ],
      "source": [
        "set.isdisjoint(acessorios_passat, acessorios_crossfox) # Usamos a função set.isdisjoint()\n",
        "# Verificamos se não há algum elemento em comum entre os conjuntos"
      ]
    },
    {
      "cell_type": "markdown",
      "metadata": {
        "id": "0YYUbNDFWpvB"
      },
      "source": [
        "### **Interseção**"
      ]
    },
    {
      "cell_type": "markdown",
      "metadata": {
        "id": "0OPz9M8vW-BZ"
      },
      "source": [
        "<img src='https://i.imgur.com/6W7bxU1.png' width = 50%>"
      ]
    },
    {
      "cell_type": "code",
      "execution_count": 37,
      "metadata": {
        "colab": {
          "base_uri": "https://localhost:8080/"
        },
        "id": "7Xg8Tyb3XIbs",
        "outputId": "3356efb2-5b1c-4aa1-8719-adb953d6ddd3"
      },
      "outputs": [
        {
          "data": {
            "text/plain": [
              "{'Central Multimídia', 'Piloto Automático'}"
            ]
          },
          "execution_count": 37,
          "metadata": {},
          "output_type": "execute_result"
        }
      ],
      "source": [
        "acessorios_passat & acessorios_crossfox # Usamos o operador ' & ' para ver interseção\n",
        "# Verificamos se há algum elemento em comum entre os conjuntos"
      ]
    },
    {
      "cell_type": "code",
      "execution_count": 23,
      "metadata": {
        "colab": {
          "base_uri": "https://localhost:8080/"
        },
        "id": "xQ6X-XbsYz_T",
        "outputId": "460e48ab-c342-454b-d396-79dc1fbc8cfd"
      },
      "outputs": [
        {
          "data": {
            "text/plain": [
              "{'Rodas de Liga', 'Travas Elétricas'}"
            ]
          },
          "execution_count": 23,
          "metadata": {},
          "output_type": "execute_result"
        }
      ],
      "source": [
        "acessorios_passat & acessorios_jetta"
      ]
    },
    {
      "cell_type": "code",
      "execution_count": 38,
      "metadata": {
        "colab": {
          "base_uri": "https://localhost:8080/"
        },
        "id": "OHa9LqNdY2ht",
        "outputId": "37867880-06dd-44d3-feb5-bae5b906ec49"
      },
      "outputs": [
        {
          "data": {
            "text/plain": [
              "set()"
            ]
          },
          "execution_count": 38,
          "metadata": {},
          "output_type": "execute_result"
        }
      ],
      "source": [
        "set.intersection(acessorios_passat, acessorios_crossfox, acessorios_jetta) # Usamos set.intersection()\n",
        "# Verificamos se há algum elemento em comum entre os conjuntos citados"
      ]
    },
    {
      "cell_type": "markdown",
      "metadata": {
        "id": "GzUoqpFVZGIu"
      },
      "source": [
        "### **União**"
      ]
    },
    {
      "cell_type": "markdown",
      "metadata": {
        "id": "Me_90Pk7ZG9d"
      },
      "source": [
        "<img src='https://i.imgur.com/C3MrKmK.png' width = 50%>"
      ]
    },
    {
      "cell_type": "code",
      "execution_count": 25,
      "metadata": {
        "colab": {
          "base_uri": "https://localhost:8080/"
        },
        "id": "kYo9i7g5WrX_",
        "outputId": "2f72e791-5f08-402d-de4d-b089a4556154"
      },
      "outputs": [
        {
          "data": {
            "text/plain": [
              "{'4 X 4',\n",
              " 'Central Multimídia',\n",
              " 'Piloto Automático',\n",
              " 'Rodas de Liga',\n",
              " 'Teto Panorâmico',\n",
              " 'Travas Elétricas'}"
            ]
          },
          "execution_count": 25,
          "metadata": {},
          "output_type": "execute_result"
        }
      ],
      "source": [
        "acessorios_passat | acessorios_crossfox # Usamos o operador ' | ' que significa 'OU'\n",
        "# Verificamos todos os elementos entre os conjuntos"
      ]
    },
    {
      "cell_type": "code",
      "execution_count": 26,
      "metadata": {
        "colab": {
          "base_uri": "https://localhost:8080/"
        },
        "id": "h7RZmv19auKU",
        "outputId": "4d65adb6-41c8-4ca7-d639-b6649662b60d"
      },
      "outputs": [
        {
          "data": {
            "text/plain": [
              "{'4 X 4',\n",
              " 'Central Multimídia',\n",
              " 'Controle de Estabilidade',\n",
              " 'Câmbio Automático',\n",
              " 'Piloto Automático',\n",
              " 'Rodas de Liga',\n",
              " 'Teto Panorâmico',\n",
              " 'Teto Solar',\n",
              " 'Travas Elétricas'}"
            ]
          },
          "execution_count": 26,
          "metadata": {},
          "output_type": "execute_result"
        }
      ],
      "source": [
        "set.union(acessorios_passat, acessorios_crossfox, acessorios_jetta, {'Teto Solar'}) # Usamos set.union()\n",
        "# Verificamos todos os elementos que possuem os conjuntos citados\n",
        "# E ainda adicionamos um último elemento {'Teto Solar'} para adicionar ao conjunto"
      ]
    },
    {
      "cell_type": "markdown",
      "metadata": {
        "id": "wMelozu-ijag"
      },
      "source": [
        "## **Perfomance**"
      ]
    },
    {
      "cell_type": "code",
      "execution_count": 27,
      "metadata": {
        "colab": {
          "base_uri": "https://localhost:8080/"
        },
        "id": "EhyRdV4CLvVX",
        "outputId": "06ac8df1-db24-4c9d-baec-ef7e3187e681"
      },
      "outputs": [
        {
          "data": {
            "text/plain": [
              "{'Crossfox', 'Dodge Jorney', 'Jetta Variant', 'Passat'}"
            ]
          },
          "execution_count": 27,
          "metadata": {},
          "output_type": "execute_result"
        }
      ],
      "source": [
        "carros"
      ]
    },
    {
      "cell_type": "code",
      "execution_count": 28,
      "metadata": {
        "colab": {
          "base_uri": "https://localhost:8080/"
        },
        "id": "PnRZ7Dp0Lwrt",
        "outputId": "d701ddce-f999-489c-acde-7ca1b73e009f"
      },
      "outputs": [
        {
          "data": {
            "text/plain": [
              "True"
            ]
          },
          "execution_count": 28,
          "metadata": {},
          "output_type": "execute_result"
        }
      ],
      "source": [
        "'Crossfox' in carros"
      ]
    },
    {
      "cell_type": "markdown",
      "metadata": {
        "id": "xLpWitV6L0At"
      },
      "source": [
        "### **Perfomance com vários elementos**"
      ]
    },
    {
      "cell_type": "code",
      "execution_count": 29,
      "metadata": {
        "id": "-OErengzhloO"
      },
      "outputs": [],
      "source": [
        "elementos_set = set(range(10_000))\n",
        "elementos_list = list(range(10_000))\n",
        "elementos_tuple = tuple(range(10_000))\n",
        "\n",
        "# Criamos uma estrutura que vai de 0 até 9_999 para avaliar a perfomance de análise dos dados"
      ]
    },
    {
      "cell_type": "code",
      "execution_count": 30,
      "metadata": {
        "id": "r5v0f69hhQpJ"
      },
      "outputs": [],
      "source": [
        "def verificar_elemento_in(elemento_iteravel):\n",
        "  # Verifica se cada número no intervalo especificado pertence ao iterável 'elemento_iteravel'\n",
        "  for elemento in range(10_000):\n",
        "    if elemento in elemento_iteravel:\n",
        "      pass"
      ]
    },
    {
      "cell_type": "code",
      "execution_count": 31,
      "metadata": {
        "colab": {
          "base_uri": "https://localhost:8080/"
        },
        "id": "Ny1_EsyZJxea",
        "outputId": "3b15d29f-897c-4ff1-eda1-b21d4501cb35"
      },
      "outputs": [
        {
          "name": "stdout",
          "output_type": "stream",
          "text": [
            "Tempo de execução set: \n",
            "CPU times: total: 0 ns\n",
            "Wall time: 1.08 ms\n",
            "==============================\n",
            "Tempo de execução lista: \n",
            "CPU times: total: 766 ms\n",
            "Wall time: 785 ms\n",
            "==============================\n",
            "Tempo de execução tuplas: \n",
            "CPU times: total: 578 ms\n",
            "Wall time: 625 ms\n",
            "==============================\n"
          ]
        }
      ],
      "source": [
        "print(\"Tempo de execução set: \")\n",
        "%time verificar_elemento_in(elementos_set) # Verificamos com '%time' o tempo de execução de cada operação\n",
        "print(\"=\"*30)\n",
        "\n",
        "print(\"Tempo de execução lista: \")\n",
        "%time verificar_elemento_in(elementos_list)\n",
        "print(\"=\"*30)\n",
        "\n",
        "print(\"Tempo de execução tuplas: \")\n",
        "%time verificar_elemento_in(elementos_tuple)\n",
        "print(\"=\"*30)"
      ]
    },
    {
      "cell_type": "markdown",
      "metadata": {
        "id": "5soB6Kjq4L0N"
      },
      "source": [
        "Verificamos com o resultado que, com set(), ganhamos performance. Podendo assim escolhê-lo ao trabalhar com uma grande quantidade de dados."
      ]
    }
  ],
  "metadata": {
    "colab": {
      "include_colab_link": true,
      "provenance": []
    },
    "kernelspec": {
      "display_name": "Python 3",
      "name": "python3"
    },
    "language_info": {
      "codemirror_mode": {
        "name": "ipython",
        "version": 3
      },
      "file_extension": ".py",
      "mimetype": "text/x-python",
      "name": "python",
      "nbconvert_exporter": "python",
      "pygments_lexer": "ipython3",
      "version": "3.13.2"
    }
  },
  "nbformat": 4,
  "nbformat_minor": 0
}
